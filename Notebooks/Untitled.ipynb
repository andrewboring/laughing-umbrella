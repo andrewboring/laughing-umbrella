{
 "cells": [
  {
   "cell_type": "code",
   "execution_count": 1,
   "metadata": {},
   "outputs": [],
   "source": [
    "import pandas as pd\n",
    "import matplotlib.pyplot as plt\n",
    "import numpy as np"
   ]
  },
  {
   "cell_type": "code",
   "execution_count": 2,
   "metadata": {},
   "outputs": [],
   "source": [
    "housing_data_to_load = \"Clean Data/FinancialCleaned.csv\"\n",
    "housing_affordability_to_load = \"Clean Data/Housing_Affordability_Index_1981_2019.csv\"\n",
    "\n",
    "housing_data_to_load_df = pd.read_csv(housing_data_to_load)\n",
    "housing_affordability_df = pd.read_csv(housing_affordability_to_load)\n",
    "\n",
    "#FinancialCleaned.csv"
   ]
  },
  {
   "cell_type": "code",
   "execution_count": 3,
   "metadata": {},
   "outputs": [
    {
     "data": {
      "text/html": [
       "<div>\n",
       "<style scoped>\n",
       "    .dataframe tbody tr th:only-of-type {\n",
       "        vertical-align: middle;\n",
       "    }\n",
       "\n",
       "    .dataframe tbody tr th {\n",
       "        vertical-align: top;\n",
       "    }\n",
       "\n",
       "    .dataframe thead th {\n",
       "        text-align: right;\n",
       "    }\n",
       "</style>\n",
       "<table border=\"1\" class=\"dataframe\">\n",
       "  <thead>\n",
       "    <tr style=\"text-align: right;\">\n",
       "      <th></th>\n",
       "      <th>Financial obligations ratio, seasonally adjusted</th>\n",
       "      <th>Consumer debt service ratio, seasonally adjusted</th>\n",
       "      <th>Debt service ratio, seasonally adjusted</th>\n",
       "      <th>Mortgage debt service ratio, seasonally adjusted</th>\n",
       "      <th>Year</th>\n",
       "      <th>Month</th>\n",
       "    </tr>\n",
       "  </thead>\n",
       "  <tbody>\n",
       "    <tr>\n",
       "      <th>0</th>\n",
       "      <td>16.900919</td>\n",
       "      <td>5.635607</td>\n",
       "      <td>11.649150</td>\n",
       "      <td>6.013543</td>\n",
       "      <td>1990</td>\n",
       "      <td>January</td>\n",
       "    </tr>\n",
       "    <tr>\n",
       "      <th>1</th>\n",
       "      <td>16.892530</td>\n",
       "      <td>5.603958</td>\n",
       "      <td>11.632987</td>\n",
       "      <td>6.029029</td>\n",
       "      <td>1990</td>\n",
       "      <td>February</td>\n",
       "    </tr>\n",
       "    <tr>\n",
       "      <th>2</th>\n",
       "      <td>16.884141</td>\n",
       "      <td>5.572309</td>\n",
       "      <td>11.616823</td>\n",
       "      <td>6.044514</td>\n",
       "      <td>1990</td>\n",
       "      <td>March</td>\n",
       "    </tr>\n",
       "    <tr>\n",
       "      <th>3</th>\n",
       "      <td>16.875752</td>\n",
       "      <td>5.540660</td>\n",
       "      <td>11.600660</td>\n",
       "      <td>6.060000</td>\n",
       "      <td>1990</td>\n",
       "      <td>April</td>\n",
       "    </tr>\n",
       "    <tr>\n",
       "      <th>4</th>\n",
       "      <td>16.879918</td>\n",
       "      <td>5.520860</td>\n",
       "      <td>11.594817</td>\n",
       "      <td>6.073958</td>\n",
       "      <td>1990</td>\n",
       "      <td>May</td>\n",
       "    </tr>\n",
       "  </tbody>\n",
       "</table>\n",
       "</div>"
      ],
      "text/plain": [
       "   Financial obligations ratio, seasonally adjusted  \\\n",
       "0                                         16.900919   \n",
       "1                                         16.892530   \n",
       "2                                         16.884141   \n",
       "3                                         16.875752   \n",
       "4                                         16.879918   \n",
       "\n",
       "   Consumer debt service ratio, seasonally adjusted  \\\n",
       "0                                          5.635607   \n",
       "1                                          5.603958   \n",
       "2                                          5.572309   \n",
       "3                                          5.540660   \n",
       "4                                          5.520860   \n",
       "\n",
       "   Debt service ratio, seasonally adjusted  \\\n",
       "0                                11.649150   \n",
       "1                                11.632987   \n",
       "2                                11.616823   \n",
       "3                                11.600660   \n",
       "4                                11.594817   \n",
       "\n",
       "   Mortgage debt service ratio, seasonally adjusted  Year     Month  \n",
       "0                                          6.013543  1990   January  \n",
       "1                                          6.029029  1990  February  \n",
       "2                                          6.044514  1990     March  \n",
       "3                                          6.060000  1990     April  \n",
       "4                                          6.073958  1990       May  "
      ]
     },
     "execution_count": 3,
     "metadata": {},
     "output_type": "execute_result"
    }
   ],
   "source": [
    "housing_data_to_load_df.head()"
   ]
  }
 ],
 "metadata": {
  "kernelspec": {
   "display_name": "Python (PythonData)",
   "language": "python",
   "name": "pythondata"
  },
  "language_info": {
   "codemirror_mode": {
    "name": "ipython",
    "version": 3
   },
   "file_extension": ".py",
   "mimetype": "text/x-python",
   "name": "python",
   "nbconvert_exporter": "python",
   "pygments_lexer": "ipython3",
   "version": "3.6.8"
  }
 },
 "nbformat": 4,
 "nbformat_minor": 2
}
