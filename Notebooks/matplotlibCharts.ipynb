{
 "cells": [
  {
   "cell_type": "code",
   "execution_count": 24,
   "metadata": {},
   "outputs": [],
   "source": [
    "import pandas as pd\n",
    "import matplotlib.pyplot as plt\n",
    "import numpy as np"
   ]
  },
  {
   "cell_type": "code",
   "execution_count": 25,
   "metadata": {},
   "outputs": [],
   "source": [
    "housing_data_to_load = \"Clean Data/FinancialCleaned.csv\"\n",
    "housing_affordability_to_load = \"Clean Data/Housing_Affordability_Index_1981_2019.csv\"\n",
    "\n",
    "housing_data_df = pd.read_csv(housing_data_to_load)\n",
    "housing_affordability_df = pd.read_csv(housing_affordability_to_load)\n",
    "\n",
    "#FinancialCleaned.csv"
   ]
  },
  {
   "cell_type": "code",
   "execution_count": 26,
   "metadata": {
    "scrolled": true
   },
   "outputs": [
    {
     "data": {
      "text/html": [
       "<div>\n",
       "<style scoped>\n",
       "    .dataframe tbody tr th:only-of-type {\n",
       "        vertical-align: middle;\n",
       "    }\n",
       "\n",
       "    .dataframe tbody tr th {\n",
       "        vertical-align: top;\n",
       "    }\n",
       "\n",
       "    .dataframe thead th {\n",
       "        text-align: right;\n",
       "    }\n",
       "</style>\n",
       "<table border=\"1\" class=\"dataframe\">\n",
       "  <thead>\n",
       "    <tr style=\"text-align: right;\">\n",
       "      <th></th>\n",
       "      <th>Financial obligations ratio, seasonally adjusted</th>\n",
       "      <th>Consumer debt service ratio, seasonally adjusted</th>\n",
       "      <th>Debt service ratio, seasonally adjusted</th>\n",
       "      <th>Mortgage debt service ratio, seasonally adjusted</th>\n",
       "      <th>Year</th>\n",
       "      <th>Month</th>\n",
       "    </tr>\n",
       "  </thead>\n",
       "  <tbody>\n",
       "    <tr>\n",
       "      <th>0</th>\n",
       "      <td>16.900919</td>\n",
       "      <td>5.635607</td>\n",
       "      <td>11.649150</td>\n",
       "      <td>6.013543</td>\n",
       "      <td>1990</td>\n",
       "      <td>January</td>\n",
       "    </tr>\n",
       "    <tr>\n",
       "      <th>1</th>\n",
       "      <td>16.892530</td>\n",
       "      <td>5.603958</td>\n",
       "      <td>11.632987</td>\n",
       "      <td>6.029029</td>\n",
       "      <td>1990</td>\n",
       "      <td>February</td>\n",
       "    </tr>\n",
       "    <tr>\n",
       "      <th>2</th>\n",
       "      <td>16.884141</td>\n",
       "      <td>5.572309</td>\n",
       "      <td>11.616823</td>\n",
       "      <td>6.044514</td>\n",
       "      <td>1990</td>\n",
       "      <td>March</td>\n",
       "    </tr>\n",
       "    <tr>\n",
       "      <th>3</th>\n",
       "      <td>16.875752</td>\n",
       "      <td>5.540660</td>\n",
       "      <td>11.600660</td>\n",
       "      <td>6.060000</td>\n",
       "      <td>1990</td>\n",
       "      <td>April</td>\n",
       "    </tr>\n",
       "    <tr>\n",
       "      <th>4</th>\n",
       "      <td>16.879918</td>\n",
       "      <td>5.520860</td>\n",
       "      <td>11.594817</td>\n",
       "      <td>6.073958</td>\n",
       "      <td>1990</td>\n",
       "      <td>May</td>\n",
       "    </tr>\n",
       "  </tbody>\n",
       "</table>\n",
       "</div>"
      ],
      "text/plain": [
       "   Financial obligations ratio, seasonally adjusted  \\\n",
       "0                                         16.900919   \n",
       "1                                         16.892530   \n",
       "2                                         16.884141   \n",
       "3                                         16.875752   \n",
       "4                                         16.879918   \n",
       "\n",
       "   Consumer debt service ratio, seasonally adjusted  \\\n",
       "0                                          5.635607   \n",
       "1                                          5.603958   \n",
       "2                                          5.572309   \n",
       "3                                          5.540660   \n",
       "4                                          5.520860   \n",
       "\n",
       "   Debt service ratio, seasonally adjusted  \\\n",
       "0                                11.649150   \n",
       "1                                11.632987   \n",
       "2                                11.616823   \n",
       "3                                11.600660   \n",
       "4                                11.594817   \n",
       "\n",
       "   Mortgage debt service ratio, seasonally adjusted  Year     Month  \n",
       "0                                          6.013543  1990   January  \n",
       "1                                          6.029029  1990  February  \n",
       "2                                          6.044514  1990     March  \n",
       "3                                          6.060000  1990     April  \n",
       "4                                          6.073958  1990       May  "
      ]
     },
     "execution_count": 26,
     "metadata": {},
     "output_type": "execute_result"
    }
   ],
   "source": [
    "housing_data_df.head()"
   ]
  },
  {
   "cell_type": "code",
   "execution_count": 27,
   "metadata": {},
   "outputs": [
    {
     "data": {
      "text/html": [
       "<div>\n",
       "<style scoped>\n",
       "    .dataframe tbody tr th:only-of-type {\n",
       "        vertical-align: middle;\n",
       "    }\n",
       "\n",
       "    .dataframe tbody tr th {\n",
       "        vertical-align: top;\n",
       "    }\n",
       "\n",
       "    .dataframe thead th {\n",
       "        text-align: right;\n",
       "    }\n",
       "</style>\n",
       "<table border=\"1\" class=\"dataframe\">\n",
       "  <thead>\n",
       "    <tr style=\"text-align: right;\">\n",
       "      <th></th>\n",
       "      <th>Financial obligations ratio, seasonally adjusted</th>\n",
       "      <th>Consumer debt service ratio, seasonally adjusted</th>\n",
       "      <th>Debt service ratio, seasonally adjusted</th>\n",
       "      <th>Mortgage debt service ratio, seasonally adjusted</th>\n",
       "      <th>Year</th>\n",
       "      <th>Month</th>\n",
       "      <th>period</th>\n",
       "    </tr>\n",
       "  </thead>\n",
       "  <tbody>\n",
       "    <tr>\n",
       "      <th>0</th>\n",
       "      <td>16.900919</td>\n",
       "      <td>5.635607</td>\n",
       "      <td>11.649150</td>\n",
       "      <td>6.013543</td>\n",
       "      <td>1990</td>\n",
       "      <td>January</td>\n",
       "      <td>1990_January</td>\n",
       "    </tr>\n",
       "    <tr>\n",
       "      <th>1</th>\n",
       "      <td>16.892530</td>\n",
       "      <td>5.603958</td>\n",
       "      <td>11.632987</td>\n",
       "      <td>6.029029</td>\n",
       "      <td>1990</td>\n",
       "      <td>February</td>\n",
       "      <td>1990_February</td>\n",
       "    </tr>\n",
       "    <tr>\n",
       "      <th>2</th>\n",
       "      <td>16.884141</td>\n",
       "      <td>5.572309</td>\n",
       "      <td>11.616823</td>\n",
       "      <td>6.044514</td>\n",
       "      <td>1990</td>\n",
       "      <td>March</td>\n",
       "      <td>1990_March</td>\n",
       "    </tr>\n",
       "    <tr>\n",
       "      <th>3</th>\n",
       "      <td>16.875752</td>\n",
       "      <td>5.540660</td>\n",
       "      <td>11.600660</td>\n",
       "      <td>6.060000</td>\n",
       "      <td>1990</td>\n",
       "      <td>April</td>\n",
       "      <td>1990_April</td>\n",
       "    </tr>\n",
       "    <tr>\n",
       "      <th>4</th>\n",
       "      <td>16.879918</td>\n",
       "      <td>5.520860</td>\n",
       "      <td>11.594817</td>\n",
       "      <td>6.073958</td>\n",
       "      <td>1990</td>\n",
       "      <td>May</td>\n",
       "      <td>1990_May</td>\n",
       "    </tr>\n",
       "  </tbody>\n",
       "</table>\n",
       "</div>"
      ],
      "text/plain": [
       "   Financial obligations ratio, seasonally adjusted  \\\n",
       "0                                         16.900919   \n",
       "1                                         16.892530   \n",
       "2                                         16.884141   \n",
       "3                                         16.875752   \n",
       "4                                         16.879918   \n",
       "\n",
       "   Consumer debt service ratio, seasonally adjusted  \\\n",
       "0                                          5.635607   \n",
       "1                                          5.603958   \n",
       "2                                          5.572309   \n",
       "3                                          5.540660   \n",
       "4                                          5.520860   \n",
       "\n",
       "   Debt service ratio, seasonally adjusted  \\\n",
       "0                                11.649150   \n",
       "1                                11.632987   \n",
       "2                                11.616823   \n",
       "3                                11.600660   \n",
       "4                                11.594817   \n",
       "\n",
       "   Mortgage debt service ratio, seasonally adjusted  Year     Month  \\\n",
       "0                                          6.013543  1990   January   \n",
       "1                                          6.029029  1990  February   \n",
       "2                                          6.044514  1990     March   \n",
       "3                                          6.060000  1990     April   \n",
       "4                                          6.073958  1990       May   \n",
       "\n",
       "          period  \n",
       "0   1990_January  \n",
       "1  1990_February  \n",
       "2     1990_March  \n",
       "3     1990_April  \n",
       "4       1990_May  "
      ]
     },
     "execution_count": 27,
     "metadata": {},
     "output_type": "execute_result"
    }
   ],
   "source": [
    "housing_data_df[\"period\"] = housing_data_df[\"Year\"].map(str) + \"_\" + housing_data_df[\"Month\"]\n",
    "housing_data_df.head()"
   ]
  },
  {
   "cell_type": "code",
   "execution_count": 28,
   "metadata": {},
   "outputs": [
    {
     "data": {
      "text/html": [
       "<div>\n",
       "<style scoped>\n",
       "    .dataframe tbody tr th:only-of-type {\n",
       "        vertical-align: middle;\n",
       "    }\n",
       "\n",
       "    .dataframe tbody tr th {\n",
       "        vertical-align: top;\n",
       "    }\n",
       "\n",
       "    .dataframe thead th {\n",
       "        text-align: right;\n",
       "    }\n",
       "</style>\n",
       "<table border=\"1\" class=\"dataframe\">\n",
       "  <thead>\n",
       "    <tr style=\"text-align: right;\">\n",
       "      <th></th>\n",
       "      <th>Month</th>\n",
       "      <th>Year</th>\n",
       "      <th>Housing_Affordability_Index</th>\n",
       "    </tr>\n",
       "  </thead>\n",
       "  <tbody>\n",
       "    <tr>\n",
       "      <th>0</th>\n",
       "      <td>January</td>\n",
       "      <td>1981</td>\n",
       "      <td>73.6</td>\n",
       "    </tr>\n",
       "    <tr>\n",
       "      <th>1</th>\n",
       "      <td>February</td>\n",
       "      <td>1981</td>\n",
       "      <td>72.1</td>\n",
       "    </tr>\n",
       "    <tr>\n",
       "      <th>2</th>\n",
       "      <td>March</td>\n",
       "      <td>1981</td>\n",
       "      <td>71.1</td>\n",
       "    </tr>\n",
       "    <tr>\n",
       "      <th>3</th>\n",
       "      <td>April</td>\n",
       "      <td>1981</td>\n",
       "      <td>70.1</td>\n",
       "    </tr>\n",
       "    <tr>\n",
       "      <th>4</th>\n",
       "      <td>May</td>\n",
       "      <td>1981</td>\n",
       "      <td>68.5</td>\n",
       "    </tr>\n",
       "  </tbody>\n",
       "</table>\n",
       "</div>"
      ],
      "text/plain": [
       "      Month  Year  Housing_Affordability_Index\n",
       "0   January  1981                         73.6\n",
       "1  February  1981                         72.1\n",
       "2     March  1981                         71.1\n",
       "3     April  1981                         70.1\n",
       "4       May  1981                         68.5"
      ]
     },
     "execution_count": 28,
     "metadata": {},
     "output_type": "execute_result"
    }
   ],
   "source": [
    "housing_affordability_df.head()"
   ]
  },
  {
   "cell_type": "code",
   "execution_count": 29,
   "metadata": {},
   "outputs": [
    {
     "data": {
      "text/html": [
       "<div>\n",
       "<style scoped>\n",
       "    .dataframe tbody tr th:only-of-type {\n",
       "        vertical-align: middle;\n",
       "    }\n",
       "\n",
       "    .dataframe tbody tr th {\n",
       "        vertical-align: top;\n",
       "    }\n",
       "\n",
       "    .dataframe thead th {\n",
       "        text-align: right;\n",
       "    }\n",
       "</style>\n",
       "<table border=\"1\" class=\"dataframe\">\n",
       "  <thead>\n",
       "    <tr style=\"text-align: right;\">\n",
       "      <th></th>\n",
       "      <th>Month</th>\n",
       "      <th>Year</th>\n",
       "      <th>Housing_Affordability_Index</th>\n",
       "      <th>period</th>\n",
       "    </tr>\n",
       "  </thead>\n",
       "  <tbody>\n",
       "    <tr>\n",
       "      <th>0</th>\n",
       "      <td>January</td>\n",
       "      <td>1981</td>\n",
       "      <td>73.6</td>\n",
       "      <td>1981_January</td>\n",
       "    </tr>\n",
       "    <tr>\n",
       "      <th>1</th>\n",
       "      <td>February</td>\n",
       "      <td>1981</td>\n",
       "      <td>72.1</td>\n",
       "      <td>1981_February</td>\n",
       "    </tr>\n",
       "    <tr>\n",
       "      <th>2</th>\n",
       "      <td>March</td>\n",
       "      <td>1981</td>\n",
       "      <td>71.1</td>\n",
       "      <td>1981_March</td>\n",
       "    </tr>\n",
       "    <tr>\n",
       "      <th>3</th>\n",
       "      <td>April</td>\n",
       "      <td>1981</td>\n",
       "      <td>70.1</td>\n",
       "      <td>1981_April</td>\n",
       "    </tr>\n",
       "    <tr>\n",
       "      <th>4</th>\n",
       "      <td>May</td>\n",
       "      <td>1981</td>\n",
       "      <td>68.5</td>\n",
       "      <td>1981_May</td>\n",
       "    </tr>\n",
       "  </tbody>\n",
       "</table>\n",
       "</div>"
      ],
      "text/plain": [
       "      Month  Year  Housing_Affordability_Index         period\n",
       "0   January  1981                         73.6   1981_January\n",
       "1  February  1981                         72.1  1981_February\n",
       "2     March  1981                         71.1     1981_March\n",
       "3     April  1981                         70.1     1981_April\n",
       "4       May  1981                         68.5       1981_May"
      ]
     },
     "execution_count": 29,
     "metadata": {},
     "output_type": "execute_result"
    }
   ],
   "source": [
    "housing_affordability_df[\"period\"] = housing_affordability_df[\"Year\"].map(str) + \"_\" + housing_affordability_df[\"Month\"]\n",
    "housing_affordability_df.head()"
   ]
  },
  {
   "cell_type": "code",
   "execution_count": 32,
   "metadata": {
    "scrolled": true
   },
   "outputs": [
    {
     "data": {
      "text/plain": [
       "<matplotlib.axes._subplots.AxesSubplot at 0x120b640f0>"
      ]
     },
     "execution_count": 32,
     "metadata": {},
     "output_type": "execute_result"
    },
    {
     "data": {
      "image/png": "[encoded data removed]",
      "text/plain": [
       "<Figure size 432x288 with 1 Axes>"
      ]
     },
     "metadata": {
      "needs_background": "light"
     },
     "output_type": "display_data"
    }
   ],
   "source": [
    "housing_affordability_df.plot(x='period', y='Housing_Affordability_Index')"
   ]
  },
  {
   "cell_type": "code",
   "execution_count": 34,
   "metadata": {
    "scrolled": true
   },
   "outputs": [
    {
     "data": {
      "text/plain": [
       "<matplotlib.axes._subplots.AxesSubplot at 0x120c30550>"
      ]
     },
     "execution_count": 34,
     "metadata": {},
     "output_type": "execute_result"
    },
    {
     "data": {
      "image/png": "[encoded data removed]",
      "text/plain": [
       "<Figure size 432x288 with 1 Axes>"
      ]
     },
     "metadata": {
      "needs_background": "light"
     },
     "output_type": "display_data"
    }
   ],
   "source": [
    "housing_data_df.plot(x='period', y='Financial obligations ratio, seasonally adjusted')"
   ]
  },
  {
   "cell_type": "code",
   "execution_count": 35,
   "metadata": {
    "scrolled": true
   },
   "outputs": [
    {
     "data": {
      "text/plain": [
       "<matplotlib.axes._subplots.AxesSubplot at 0x120f41198>"
      ]
     },
     "execution_count": 35,
     "metadata": {},
     "output_type": "execute_result"
    },
    {
     "data": {
      "image/png": "[encoded data removed]",
      "text/plain": [
       "<Figure size 432x288 with 1 Axes>"
      ]
     },
     "metadata": {
      "needs_background": "light"
     },
     "output_type": "display_data"
    }
   ],
   "source": [
    "housing_data_df.plot(x='period', y='Consumer debt service ratio, seasonally adjusted')"
   ]
  },
  {
   "cell_type": "code",
   "execution_count": 36,
   "metadata": {
    "scrolled": true
   },
   "outputs": [
    {
     "data": {
      "text/plain": [
       "<matplotlib.axes._subplots.AxesSubplot at 0x120ff77f0>"
      ]
     },
     "execution_count": 36,
     "metadata": {},
     "output_type": "execute_result"
    },
    {
     "data": {
      "image/png": "[encoded data removed]",
      "text/plain": [
       "<Figure size 432x288 with 1 Axes>"
      ]
     },
     "metadata": {
      "needs_background": "light"
     },
     "output_type": "display_data"
    }
   ],
   "source": [
    "housing_data_df.plot(x='period', y='Debt service ratio, seasonally adjusted')"
   ]
  }
 ],
 "metadata": {
  "kernelspec": {
   "display_name": "Python (PythonData)",
   "language": "python",
   "name": "pythondata"
  },
  "language_info": {
   "codemirror_mode": {
    "name": "ipython",
    "version": 3
   },
   "file_extension": ".py",
   "mimetype": "text/x-python",
   "name": "python",
   "nbconvert_exporter": "python",
   "pygments_lexer": "ipython3",
   "version": "3.6.8"
  }
 },
 "nbformat": 4,
 "nbformat_minor": 2
}
