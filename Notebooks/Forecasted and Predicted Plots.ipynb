{
 "cells": [
  {
   "cell_type": "code",
   "execution_count": 1,
   "metadata": {},
   "outputs": [],
   "source": [
    "%matplotlib notebook\n",
    "import pandas as pd\n",
    "import matplotlib.pyplot as plt\n",
    "import numpy as np"
   ]
  },
  {
   "cell_type": "markdown",
   "metadata": {},
   "source": [
    "## Forecasted Data"
   ]
  },
  {
   "cell_type": "code",
   "execution_count": 7,
   "metadata": {},
   "outputs": [],
   "source": [
    "forecasted_data = \"../Data/forecasted_data.csv\"\n",
    "forecasted_df = pd.read_csv(forecasted_data)"
   ]
  },
  {
   "cell_type": "code",
   "execution_count": 8,
   "metadata": {},
   "outputs": [
    {
     "data": {
      "text/html": [
       "<div>\n",
       "<style scoped>\n",
       "    .dataframe tbody tr th:only-of-type {\n",
       "        vertical-align: middle;\n",
       "    }\n",
       "\n",
       "    .dataframe tbody tr th {\n",
       "        vertical-align: top;\n",
       "    }\n",
       "\n",
       "    .dataframe thead th {\n",
       "        text-align: right;\n",
       "    }\n",
       "</style>\n",
       "<table border=\"1\" class=\"dataframe\">\n",
       "  <thead>\n",
       "    <tr style=\"text-align: right;\">\n",
       "      <th></th>\n",
       "      <th>1M</th>\n",
       "      <th>4M</th>\n",
       "      <th>7M</th>\n",
       "      <th>13M</th>\n",
       "      <th>period</th>\n",
       "    </tr>\n",
       "  </thead>\n",
       "  <tbody>\n",
       "    <tr>\n",
       "      <th>0</th>\n",
       "      <td>101.112014</td>\n",
       "      <td>103.732248</td>\n",
       "      <td>106.800180</td>\n",
       "      <td>114.539744</td>\n",
       "      <td>2000-January</td>\n",
       "    </tr>\n",
       "    <tr>\n",
       "      <th>1</th>\n",
       "      <td>102.770396</td>\n",
       "      <td>107.012035</td>\n",
       "      <td>111.681172</td>\n",
       "      <td>122.150102</td>\n",
       "      <td>2000-February</td>\n",
       "    </tr>\n",
       "    <tr>\n",
       "      <th>2</th>\n",
       "      <td>104.348024</td>\n",
       "      <td>109.943476</td>\n",
       "      <td>116.014505</td>\n",
       "      <td>128.895299</td>\n",
       "      <td>2000-March</td>\n",
       "    </tr>\n",
       "    <tr>\n",
       "      <th>3</th>\n",
       "      <td>104.977207</td>\n",
       "      <td>108.839815</td>\n",
       "      <td>113.091496</td>\n",
       "      <td>122.713232</td>\n",
       "      <td>2000-April</td>\n",
       "    </tr>\n",
       "    <tr>\n",
       "      <th>4</th>\n",
       "      <td>106.054151</td>\n",
       "      <td>109.392176</td>\n",
       "      <td>113.055385</td>\n",
       "      <td>121.546414</td>\n",
       "      <td>2000-May</td>\n",
       "    </tr>\n",
       "  </tbody>\n",
       "</table>\n",
       "</div>"
      ],
      "text/plain": [
       "           1M          4M          7M         13M         period\n",
       "0  101.112014  103.732248  106.800180  114.539744   2000-January\n",
       "1  102.770396  107.012035  111.681172  122.150102  2000-February\n",
       "2  104.348024  109.943476  116.014505  128.895299     2000-March\n",
       "3  104.977207  108.839815  113.091496  122.713232     2000-April\n",
       "4  106.054151  109.392176  113.055385  121.546414       2000-May"
      ]
     },
     "execution_count": 8,
     "metadata": {},
     "output_type": "execute_result"
    }
   ],
   "source": [
    "forecasted_df.head()"
   ]
  },
  {
   "cell_type": "code",
   "execution_count": 17,
   "metadata": {},
   "outputs": [],
   "source": [
    "fdf = forecasted_df.drop(columns=['4M','7M','13M'])\n",
    "forecasted = fdf[['period','1M']]"
   ]
  },
  {
   "cell_type": "code",
   "execution_count": 21,
   "metadata": {},
   "outputs": [],
   "source": [
    "forecasted.rename(columns={'1M':'Forecasted CS Index'}, inplace=True)"
   ]
  },
  {
   "cell_type": "code",
   "execution_count": 23,
   "metadata": {},
   "outputs": [
    {
     "data": {
      "text/html": [
       "<div>\n",
       "<style scoped>\n",
       "    .dataframe tbody tr th:only-of-type {\n",
       "        vertical-align: middle;\n",
       "    }\n",
       "\n",
       "    .dataframe tbody tr th {\n",
       "        vertical-align: top;\n",
       "    }\n",
       "\n",
       "    .dataframe thead th {\n",
       "        text-align: right;\n",
       "    }\n",
       "</style>\n",
       "<table border=\"1\" class=\"dataframe\">\n",
       "  <thead>\n",
       "    <tr style=\"text-align: right;\">\n",
       "      <th></th>\n",
       "      <th>period</th>\n",
       "      <th>Forecasted CS Index</th>\n",
       "    </tr>\n",
       "  </thead>\n",
       "  <tbody>\n",
       "    <tr>\n",
       "      <th>0</th>\n",
       "      <td>2000-January</td>\n",
       "      <td>101.112014</td>\n",
       "    </tr>\n",
       "    <tr>\n",
       "      <th>1</th>\n",
       "      <td>2000-February</td>\n",
       "      <td>102.770396</td>\n",
       "    </tr>\n",
       "    <tr>\n",
       "      <th>2</th>\n",
       "      <td>2000-March</td>\n",
       "      <td>104.348024</td>\n",
       "    </tr>\n",
       "    <tr>\n",
       "      <th>3</th>\n",
       "      <td>2000-April</td>\n",
       "      <td>104.977207</td>\n",
       "    </tr>\n",
       "    <tr>\n",
       "      <th>4</th>\n",
       "      <td>2000-May</td>\n",
       "      <td>106.054151</td>\n",
       "    </tr>\n",
       "  </tbody>\n",
       "</table>\n",
       "</div>"
      ],
      "text/plain": [
       "          period  Forecasted CS Index\n",
       "0   2000-January           101.112014\n",
       "1  2000-February           102.770396\n",
       "2     2000-March           104.348024\n",
       "3     2000-April           104.977207\n",
       "4       2000-May           106.054151"
      ]
     },
     "execution_count": 23,
     "metadata": {},
     "output_type": "execute_result"
    }
   ],
   "source": [
    "forecasted.head()"
   ]
  },
  {
   "cell_type": "code",
   "execution_count": null,
   "metadata": {},
   "outputs": [],
   "source": []
  },
  {
   "cell_type": "markdown",
   "metadata": {},
   "source": [
    "## Predicted Data"
   ]
  },
  {
   "cell_type": "code",
   "execution_count": 9,
   "metadata": {},
   "outputs": [],
   "source": [
    "predicted_data = \"../Data/predicted_data.csv\"\n",
    "predicted_df = pd.read_csv(predicted_data)"
   ]
  },
  {
   "cell_type": "code",
   "execution_count": 10,
   "metadata": {},
   "outputs": [
    {
     "data": {
      "text/html": [
       "<div>\n",
       "<style scoped>\n",
       "    .dataframe tbody tr th:only-of-type {\n",
       "        vertical-align: middle;\n",
       "    }\n",
       "\n",
       "    .dataframe tbody tr th {\n",
       "        vertical-align: top;\n",
       "    }\n",
       "\n",
       "    .dataframe thead th {\n",
       "        text-align: right;\n",
       "    }\n",
       "</style>\n",
       "<table border=\"1\" class=\"dataframe\">\n",
       "  <thead>\n",
       "    <tr style=\"text-align: right;\">\n",
       "      <th></th>\n",
       "      <th>period</th>\n",
       "      <th>CS_Index</th>\n",
       "      <th>West North Central</th>\n",
       "      <th>New England</th>\n",
       "      <th>East North Central</th>\n",
       "      <th>Middle Atlantic</th>\n",
       "      <th>Mountain</th>\n",
       "      <th>Pacific</th>\n",
       "      <th>South Atlantic</th>\n",
       "      <th>West South Central</th>\n",
       "      <th>USA</th>\n",
       "      <th>Housing Affordability Index</th>\n",
       "      <th>Market Absorption Rate (%)</th>\n",
       "      <th>Unemployment Rate</th>\n",
       "      <th>Financial obligations ratio</th>\n",
       "      <th>Consumer debt service ratio</th>\n",
       "      <th>Debt service ratio</th>\n",
       "      <th>Mortgage debt service ratio</th>\n",
       "    </tr>\n",
       "  </thead>\n",
       "  <tbody>\n",
       "    <tr>\n",
       "      <th>0</th>\n",
       "      <td>2018-November</td>\n",
       "      <td>218.305862</td>\n",
       "      <td>271</td>\n",
       "      <td>257</td>\n",
       "      <td>226</td>\n",
       "      <td>241</td>\n",
       "      <td>369</td>\n",
       "      <td>318</td>\n",
       "      <td>275</td>\n",
       "      <td>285</td>\n",
       "      <td>272</td>\n",
       "      <td>151</td>\n",
       "      <td>42.6</td>\n",
       "      <td>4.2</td>\n",
       "      <td>15.63</td>\n",
       "      <td>5.75</td>\n",
       "      <td>10.08</td>\n",
       "      <td>4.33</td>\n",
       "    </tr>\n",
       "    <tr>\n",
       "      <th>1</th>\n",
       "      <td>2018-December</td>\n",
       "      <td>220.718778</td>\n",
       "      <td>276</td>\n",
       "      <td>261</td>\n",
       "      <td>230</td>\n",
       "      <td>245</td>\n",
       "      <td>375</td>\n",
       "      <td>323</td>\n",
       "      <td>279</td>\n",
       "      <td>289</td>\n",
       "      <td>276</td>\n",
       "      <td>155</td>\n",
       "      <td>42.1</td>\n",
       "      <td>4.6</td>\n",
       "      <td>15.94</td>\n",
       "      <td>5.86</td>\n",
       "      <td>10.28</td>\n",
       "      <td>4.42</td>\n",
       "    </tr>\n",
       "    <tr>\n",
       "      <th>2</th>\n",
       "      <td>2019-January</td>\n",
       "      <td>223.341670</td>\n",
       "      <td>280</td>\n",
       "      <td>265</td>\n",
       "      <td>233</td>\n",
       "      <td>249</td>\n",
       "      <td>381</td>\n",
       "      <td>328</td>\n",
       "      <td>283</td>\n",
       "      <td>294</td>\n",
       "      <td>281</td>\n",
       "      <td>158</td>\n",
       "      <td>41.7</td>\n",
       "      <td>5.1</td>\n",
       "      <td>16.26</td>\n",
       "      <td>5.98</td>\n",
       "      <td>10.49</td>\n",
       "      <td>4.51</td>\n",
       "    </tr>\n",
       "    <tr>\n",
       "      <th>3</th>\n",
       "      <td>2019-February</td>\n",
       "      <td>225.216495</td>\n",
       "      <td>284</td>\n",
       "      <td>269</td>\n",
       "      <td>237</td>\n",
       "      <td>252</td>\n",
       "      <td>386</td>\n",
       "      <td>332</td>\n",
       "      <td>288</td>\n",
       "      <td>298</td>\n",
       "      <td>285</td>\n",
       "      <td>162</td>\n",
       "      <td>41.3</td>\n",
       "      <td>5.6</td>\n",
       "      <td>16.59</td>\n",
       "      <td>6.10</td>\n",
       "      <td>10.70</td>\n",
       "      <td>4.60</td>\n",
       "    </tr>\n",
       "    <tr>\n",
       "      <th>4</th>\n",
       "      <td>2019-March</td>\n",
       "      <td>227.794786</td>\n",
       "      <td>288</td>\n",
       "      <td>273</td>\n",
       "      <td>240</td>\n",
       "      <td>256</td>\n",
       "      <td>392</td>\n",
       "      <td>337</td>\n",
       "      <td>292</td>\n",
       "      <td>303</td>\n",
       "      <td>289</td>\n",
       "      <td>166</td>\n",
       "      <td>40.9</td>\n",
       "      <td>6.1</td>\n",
       "      <td>16.92</td>\n",
       "      <td>6.22</td>\n",
       "      <td>10.91</td>\n",
       "      <td>4.69</td>\n",
       "    </tr>\n",
       "  </tbody>\n",
       "</table>\n",
       "</div>"
      ],
      "text/plain": [
       "          period    CS_Index  West North Central  New England  \\\n",
       "0  2018-November  218.305862                 271          257   \n",
       "1  2018-December  220.718778                 276          261   \n",
       "2   2019-January  223.341670                 280          265   \n",
       "3  2019-February  225.216495                 284          269   \n",
       "4     2019-March  227.794786                 288          273   \n",
       "\n",
       "   East North Central  Middle Atlantic  Mountain  Pacific  South Atlantic  \\\n",
       "0                 226              241       369      318             275   \n",
       "1                 230              245       375      323             279   \n",
       "2                 233              249       381      328             283   \n",
       "3                 237              252       386      332             288   \n",
       "4                 240              256       392      337             292   \n",
       "\n",
       "   West South Central  USA  Housing Affordability Index  \\\n",
       "0                 285  272                          151   \n",
       "1                 289  276                          155   \n",
       "2                 294  281                          158   \n",
       "3                 298  285                          162   \n",
       "4                 303  289                          166   \n",
       "\n",
       "   Market Absorption Rate (%)  Unemployment Rate  Financial obligations ratio  \\\n",
       "0                        42.6                4.2                        15.63   \n",
       "1                        42.1                4.6                        15.94   \n",
       "2                        41.7                5.1                        16.26   \n",
       "3                        41.3                5.6                        16.59   \n",
       "4                        40.9                6.1                        16.92   \n",
       "\n",
       "   Consumer debt service ratio  Debt service ratio  \\\n",
       "0                         5.75               10.08   \n",
       "1                         5.86               10.28   \n",
       "2                         5.98               10.49   \n",
       "3                         6.10               10.70   \n",
       "4                         6.22               10.91   \n",
       "\n",
       "   Mortgage debt service ratio  \n",
       "0                         4.33  \n",
       "1                         4.42  \n",
       "2                         4.51  \n",
       "3                         4.60  \n",
       "4                         4.69  "
      ]
     },
     "execution_count": 10,
     "metadata": {},
     "output_type": "execute_result"
    }
   ],
   "source": [
    "predicted_df.head()"
   ]
  },
  {
   "cell_type": "code",
   "execution_count": 24,
   "metadata": {},
   "outputs": [],
   "source": [
    "pdf = predicted_df[['period','CS_Index']]\n",
    "predicted = pdf.rename(columns={'CS_Index':'Predicted CS Index'})"
   ]
  },
  {
   "cell_type": "code",
   "execution_count": 25,
   "metadata": {},
   "outputs": [
    {
     "data": {
      "text/html": [
       "<div>\n",
       "<style scoped>\n",
       "    .dataframe tbody tr th:only-of-type {\n",
       "        vertical-align: middle;\n",
       "    }\n",
       "\n",
       "    .dataframe tbody tr th {\n",
       "        vertical-align: top;\n",
       "    }\n",
       "\n",
       "    .dataframe thead th {\n",
       "        text-align: right;\n",
       "    }\n",
       "</style>\n",
       "<table border=\"1\" class=\"dataframe\">\n",
       "  <thead>\n",
       "    <tr style=\"text-align: right;\">\n",
       "      <th></th>\n",
       "      <th>period</th>\n",
       "      <th>Predicted CS Index</th>\n",
       "    </tr>\n",
       "  </thead>\n",
       "  <tbody>\n",
       "    <tr>\n",
       "      <th>0</th>\n",
       "      <td>2018-November</td>\n",
       "      <td>218.305862</td>\n",
       "    </tr>\n",
       "    <tr>\n",
       "      <th>1</th>\n",
       "      <td>2018-December</td>\n",
       "      <td>220.718778</td>\n",
       "    </tr>\n",
       "    <tr>\n",
       "      <th>2</th>\n",
       "      <td>2019-January</td>\n",
       "      <td>223.341670</td>\n",
       "    </tr>\n",
       "    <tr>\n",
       "      <th>3</th>\n",
       "      <td>2019-February</td>\n",
       "      <td>225.216495</td>\n",
       "    </tr>\n",
       "    <tr>\n",
       "      <th>4</th>\n",
       "      <td>2019-March</td>\n",
       "      <td>227.794786</td>\n",
       "    </tr>\n",
       "  </tbody>\n",
       "</table>\n",
       "</div>"
      ],
      "text/plain": [
       "          period  Predicted CS Index\n",
       "0  2018-November          218.305862\n",
       "1  2018-December          220.718778\n",
       "2   2019-January          223.341670\n",
       "3  2019-February          225.216495\n",
       "4     2019-March          227.794786"
      ]
     },
     "execution_count": 25,
     "metadata": {},
     "output_type": "execute_result"
    }
   ],
   "source": [
    "predicted.head()"
   ]
  },
  {
   "cell_type": "code",
   "execution_count": 26,
   "metadata": {},
   "outputs": [],
   "source": [
    "import seaborn as sns\n",
    "sns.set(style=\"darkgrid\")"
   ]
  },
  {
   "cell_type": "code",
   "execution_count": 27,
   "metadata": {},
   "outputs": [
    {
     "data": {
      "text/plain": [
       "<seaborn.axisgrid.FacetGrid at 0x11234ef60>"
      ]
     },
     "execution_count": 27,
     "metadata": {},
     "output_type": "execute_result"
    },
    {
     "data": {
      "image/png": "[encoded data removed]",
      "text/plain": [
       "<Figure size 360x360 with 1 Axes>"
      ]
     },
     "metadata": {},
     "output_type": "display_data"
    }
   ],
   "source": [
    "sns.lmplot('period', 'Forecasted CS Index', data=forecasted, fit_reg=False)"
   ]
  },
  {
   "cell_type": "code",
   "execution_count": null,
   "metadata": {},
   "outputs": [],
   "source": []
  }
 ],
 "metadata": {
  "kernelspec": {
   "display_name": "Python 3",
   "language": "python",
   "name": "python3"
  },
  "language_info": {
   "codemirror_mode": {
    "name": "ipython",
    "version": 3
   },
   "file_extension": ".py",
   "mimetype": "text/x-python",
   "name": "python",
   "nbconvert_exporter": "python",
   "pygments_lexer": "ipython3",
   "version": "3.6.8"
  }
 },
 "nbformat": 4,
 "nbformat_minor": 2
}
