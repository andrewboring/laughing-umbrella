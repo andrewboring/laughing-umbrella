{
 "cells": [
  {
   "cell_type": "code",
   "execution_count": null,
   "metadata": {},
   "outputs": [],
   "source": [
    "import pandas as pd\n",
    "import matplotlib.pyplot as plt\n",
    "import numpy as np"
   ]
  },
  {
   "cell_type": "code",
   "execution_count": null,
   "metadata": {},
   "outputs": [],
   "source": [
    "housing_data_to_load = \"Clean Data/FinancialCleaned.csv\"\n",
    "housing_affordability_to_load = \"Clean Data/Housing_Affordability_Index_1981_2019.csv\"\n",
    "\n",
    "housing_data_to_load_df = pd.read_csv(housing_data_to_load)\n",
    "housing_affordability_df = pd.read_csv(housing_affordability_to_load)\n",
    "\n",
    "#FinancialCleaned.csv"
   ]
  }
 ],
 "metadata": {
  "kernelspec": {
   "display_name": "Python (PythonData)",
   "language": "python",
   "name": "pythondata"
  },
  "language_info": {
   "codemirror_mode": {
    "name": "ipython",
    "version": 3
   },
   "file_extension": ".py",
   "mimetype": "text/x-python",
   "name": "python",
   "nbconvert_exporter": "python",
   "pygments_lexer": "ipython3",
   "version": "3.6.8"
  }
 },
 "nbformat": 4,
 "nbformat_minor": 2
}
