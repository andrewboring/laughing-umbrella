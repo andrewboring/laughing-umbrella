{
 "cells": [
  {
   "cell_type": "markdown",
   "metadata": {},
   "source": [
    "# Regression"
   ]
  },
  {
   "cell_type": "code",
   "execution_count": 21,
   "metadata": {},
   "outputs": [],
   "source": [
    "%matplotlib inline\n",
    "import matplotlib.pyplot as plt\n",
    "import numpy as np\n",
    "import pandas as pd"
   ]
  },
  {
   "cell_type": "code",
   "execution_count": 22,
   "metadata": {},
   "outputs": [
    {
     "data": {
      "text/html": [
       "<div>\n",
       "<style scoped>\n",
       "    .dataframe tbody tr th:only-of-type {\n",
       "        vertical-align: middle;\n",
       "    }\n",
       "\n",
       "    .dataframe tbody tr th {\n",
       "        vertical-align: top;\n",
       "    }\n",
       "\n",
       "    .dataframe thead th {\n",
       "        text-align: right;\n",
       "    }\n",
       "</style>\n",
       "<table border=\"1\" class=\"dataframe\">\n",
       "  <thead>\n",
       "    <tr style=\"text-align: right;\">\n",
       "      <th></th>\n",
       "      <th>period</th>\n",
       "      <th>CS_Index</th>\n",
       "      <th>West North Central</th>\n",
       "      <th>New England</th>\n",
       "      <th>East North Central</th>\n",
       "      <th>Middle Atlantic</th>\n",
       "      <th>Mountain</th>\n",
       "      <th>New England.1</th>\n",
       "      <th>Pacific</th>\n",
       "      <th>South Atlantic</th>\n",
       "      <th>West North Central.1</th>\n",
       "      <th>West South Central</th>\n",
       "      <th>USA</th>\n",
       "      <th>Housing Affordability Index</th>\n",
       "      <th>Market Absorption Rate (%)</th>\n",
       "      <th>Unemployment Rate</th>\n",
       "      <th>Financial obligations ratio, seasonally adjusted</th>\n",
       "      <th>Consumer debt service ratio, seasonally adjusted</th>\n",
       "      <th>Debt service ratio, seasonally adjusted</th>\n",
       "      <th>Mortgage debt service ratio, seasonally adjusted</th>\n",
       "    </tr>\n",
       "  </thead>\n",
       "  <tbody>\n",
       "    <tr>\n",
       "      <th>0</th>\n",
       "      <td>2000-January</td>\n",
       "      <td>100.589697</td>\n",
       "      <td>151.57</td>\n",
       "      <td>127.99</td>\n",
       "      <td>150.48</td>\n",
       "      <td>118.85</td>\n",
       "      <td>165.07</td>\n",
       "      <td>127.99</td>\n",
       "      <td>122.51</td>\n",
       "      <td>133.79</td>\n",
       "      <td>151.57</td>\n",
       "      <td>139.65</td>\n",
       "      <td>137.42</td>\n",
       "      <td>126.0</td>\n",
       "      <td>67.0</td>\n",
       "      <td>4.0</td>\n",
       "      <td>16.532775</td>\n",
       "      <td>5.937883</td>\n",
       "      <td>11.503203</td>\n",
       "      <td>5.565320</td>\n",
       "    </tr>\n",
       "    <tr>\n",
       "      <th>1</th>\n",
       "      <td>2000-February</td>\n",
       "      <td>101.692479</td>\n",
       "      <td>152.74</td>\n",
       "      <td>127.91</td>\n",
       "      <td>149.71</td>\n",
       "      <td>118.42</td>\n",
       "      <td>165.48</td>\n",
       "      <td>127.91</td>\n",
       "      <td>121.47</td>\n",
       "      <td>134.19</td>\n",
       "      <td>152.74</td>\n",
       "      <td>139.50</td>\n",
       "      <td>137.26</td>\n",
       "      <td>126.6</td>\n",
       "      <td>78.0</td>\n",
       "      <td>4.1</td>\n",
       "      <td>16.574865</td>\n",
       "      <td>5.973133</td>\n",
       "      <td>11.555449</td>\n",
       "      <td>5.582317</td>\n",
       "    </tr>\n",
       "    <tr>\n",
       "      <th>2</th>\n",
       "      <td>2000-March</td>\n",
       "      <td>102.783829</td>\n",
       "      <td>153.15</td>\n",
       "      <td>129.86</td>\n",
       "      <td>151.06</td>\n",
       "      <td>119.62</td>\n",
       "      <td>166.34</td>\n",
       "      <td>129.86</td>\n",
       "      <td>123.09</td>\n",
       "      <td>134.77</td>\n",
       "      <td>153.15</td>\n",
       "      <td>140.74</td>\n",
       "      <td>138.32</td>\n",
       "      <td>125.1</td>\n",
       "      <td>88.0</td>\n",
       "      <td>4.0</td>\n",
       "      <td>16.616956</td>\n",
       "      <td>6.008382</td>\n",
       "      <td>11.607695</td>\n",
       "      <td>5.599313</td>\n",
       "    </tr>\n",
       "    <tr>\n",
       "      <th>3</th>\n",
       "      <td>2000-April</td>\n",
       "      <td>103.996444</td>\n",
       "      <td>154.52</td>\n",
       "      <td>131.19</td>\n",
       "      <td>151.77</td>\n",
       "      <td>120.61</td>\n",
       "      <td>166.87</td>\n",
       "      <td>131.19</td>\n",
       "      <td>123.86</td>\n",
       "      <td>135.89</td>\n",
       "      <td>154.52</td>\n",
       "      <td>141.43</td>\n",
       "      <td>139.26</td>\n",
       "      <td>124.1</td>\n",
       "      <td>78.0</td>\n",
       "      <td>3.8</td>\n",
       "      <td>16.659046</td>\n",
       "      <td>6.043632</td>\n",
       "      <td>11.659941</td>\n",
       "      <td>5.616310</td>\n",
       "    </tr>\n",
       "    <tr>\n",
       "      <th>4</th>\n",
       "      <td>2000-May</td>\n",
       "      <td>105.252818</td>\n",
       "      <td>154.98</td>\n",
       "      <td>132.91</td>\n",
       "      <td>152.17</td>\n",
       "      <td>121.02</td>\n",
       "      <td>167.46</td>\n",
       "      <td>132.91</td>\n",
       "      <td>125.02</td>\n",
       "      <td>136.52</td>\n",
       "      <td>154.98</td>\n",
       "      <td>141.90</td>\n",
       "      <td>139.89</td>\n",
       "      <td>121.0</td>\n",
       "      <td>77.0</td>\n",
       "      <td>4.0</td>\n",
       "      <td>16.708283</td>\n",
       "      <td>6.088313</td>\n",
       "      <td>11.718836</td>\n",
       "      <td>5.630523</td>\n",
       "    </tr>\n",
       "  </tbody>\n",
       "</table>\n",
       "</div>"
      ],
      "text/plain": [
       "          period    CS_Index  West North Central  New England  \\\n",
       "0   2000-January  100.589697              151.57       127.99   \n",
       "1  2000-February  101.692479              152.74       127.91   \n",
       "2     2000-March  102.783829              153.15       129.86   \n",
       "3     2000-April  103.996444              154.52       131.19   \n",
       "4       2000-May  105.252818              154.98       132.91   \n",
       "\n",
       "   East North Central  Middle Atlantic  Mountain  New England.1  Pacific  \\\n",
       "0              150.48           118.85    165.07         127.99   122.51   \n",
       "1              149.71           118.42    165.48         127.91   121.47   \n",
       "2              151.06           119.62    166.34         129.86   123.09   \n",
       "3              151.77           120.61    166.87         131.19   123.86   \n",
       "4              152.17           121.02    167.46         132.91   125.02   \n",
       "\n",
       "   South Atlantic  West North Central.1  West South Central     USA  \\\n",
       "0          133.79                151.57              139.65  137.42   \n",
       "1          134.19                152.74              139.50  137.26   \n",
       "2          134.77                153.15              140.74  138.32   \n",
       "3          135.89                154.52              141.43  139.26   \n",
       "4          136.52                154.98              141.90  139.89   \n",
       "\n",
       "   Housing Affordability Index  Market Absorption Rate (%)  Unemployment Rate  \\\n",
       "0                        126.0                        67.0                4.0   \n",
       "1                        126.6                        78.0                4.1   \n",
       "2                        125.1                        88.0                4.0   \n",
       "3                        124.1                        78.0                3.8   \n",
       "4                        121.0                        77.0                4.0   \n",
       "\n",
       "   Financial obligations ratio, seasonally adjusted  \\\n",
       "0                                         16.532775   \n",
       "1                                         16.574865   \n",
       "2                                         16.616956   \n",
       "3                                         16.659046   \n",
       "4                                         16.708283   \n",
       "\n",
       "   Consumer debt service ratio, seasonally adjusted  \\\n",
       "0                                          5.937883   \n",
       "1                                          5.973133   \n",
       "2                                          6.008382   \n",
       "3                                          6.043632   \n",
       "4                                          6.088313   \n",
       "\n",
       "   Debt service ratio, seasonally adjusted  \\\n",
       "0                                11.503203   \n",
       "1                                11.555449   \n",
       "2                                11.607695   \n",
       "3                                11.659941   \n",
       "4                                11.718836   \n",
       "\n",
       "   Mortgage debt service ratio, seasonally adjusted  \n",
       "0                                          5.565320  \n",
       "1                                          5.582317  \n",
       "2                                          5.599313  \n",
       "3                                          5.616310  \n",
       "4                                          5.630523  "
      ]
     },
     "execution_count": 22,
     "metadata": {},
     "output_type": "execute_result"
    }
   ],
   "source": [
    "df = pd.read_csv(\"../Data/dataset.csv\")\n",
    "df.head()"
   ]
  },
  {
   "cell_type": "code",
   "execution_count": 23,
   "metadata": {},
   "outputs": [],
   "source": [
    "X = df['CS_Index'].values.reshape(-1, 1)\n",
    "y = df['Unemployment Rate'].values.reshape(-1, 1)"
   ]
  },
  {
   "cell_type": "code",
   "execution_count": 24,
   "metadata": {},
   "outputs": [
    {
     "name": "stdout",
     "output_type": "stream",
     "text": [
      "Shape:  (226, 1) (226, 1)\n"
     ]
    }
   ],
   "source": [
    "print(\"Shape: \", X.shape, y.shape)"
   ]
  },
  {
   "cell_type": "code",
   "execution_count": 25,
   "metadata": {},
   "outputs": [
    {
     "data": {
      "text/plain": [
       "Text(0,0.5,'Unemployment Rate')"
      ]
     },
     "execution_count": 25,
     "metadata": {},
     "output_type": "execute_result"
    },
    {
     "data": {
      "image/png": "[encoded data removed]",
      "text/plain": [
       "<Figure size 432x288 with 1 Axes>"
      ]
     },
     "metadata": {
      "needs_background": "light"
     },
     "output_type": "display_data"
    }
   ],
   "source": [
    "plt.scatter(X, y)\n",
    "plt.xlabel(\"Case-Schiller Index\")\n",
    "plt.ylabel(\"Unemployment Rate\")"
   ]
  },
  {
   "cell_type": "code",
   "execution_count": 26,
   "metadata": {},
   "outputs": [],
   "source": [
    "from sklearn.model_selection import train_test_split\n",
    "X_train, X_test, y_train, y_test = train_test_split(X, y, random_state=42)"
   ]
  },
  {
   "cell_type": "code",
   "execution_count": 27,
   "metadata": {},
   "outputs": [],
   "source": [
    "from sklearn.linear_model import LinearRegression\n",
    "\n",
    "model = LinearRegression()"
   ]
  },
  {
   "cell_type": "code",
   "execution_count": 28,
   "metadata": {},
   "outputs": [
    {
     "data": {
      "text/plain": [
       "LinearRegression(copy_X=True, fit_intercept=True, n_jobs=None,\n",
       "         normalize=False)"
      ]
     },
     "execution_count": 28,
     "metadata": {},
     "output_type": "execute_result"
    }
   ],
   "source": [
    "model.fit(X_train, y_train)"
   ]
  },
  {
   "cell_type": "code",
   "execution_count": 29,
   "metadata": {},
   "outputs": [
    {
     "name": "stdout",
     "output_type": "stream",
     "text": [
      "Mean Squared Error (MSE): 2.7522275159953025\n",
      "R-squared (R2 ): 0.2126328321247729\n"
     ]
    }
   ],
   "source": [
    "from sklearn.metrics import mean_squared_error, r2_score\n",
    "\n",
    "# Use our model to make predictions\n",
    "predicted = model.predict(X_test)\n",
    "\n",
    "# Score the predictions with mse and r2\n",
    "mse = mean_squared_error(y_test, predicted)\n",
    "r2 = r2_score(y_test, predicted)\n",
    "\n",
    "print(f\"Mean Squared Error (MSE): {mse}\")\n",
    "print(f\"R-squared (R2 ): {r2}\")"
   ]
  },
  {
   "cell_type": "code",
   "execution_count": 30,
   "metadata": {},
   "outputs": [
    {
     "data": {
      "text/plain": [
       "0.2126328321247729"
      ]
     },
     "execution_count": 30,
     "metadata": {},
     "output_type": "execute_result"
    }
   ],
   "source": [
    "model.score(X_test, y_test)"
   ]
  },
  {
   "cell_type": "code",
   "execution_count": null,
   "metadata": {},
   "outputs": [],
   "source": []
  }
 ],
 "metadata": {
  "kernelspec": {
   "display_name": "Python 3",
   "language": "python",
   "name": "python3"
  },
  "language_info": {
   "codemirror_mode": {
    "name": "ipython",
    "version": 3
   },
   "file_extension": ".py",
   "mimetype": "text/x-python",
   "name": "python",
   "nbconvert_exporter": "python",
   "pygments_lexer": "ipython3",
   "version": "3.6.8"
  }
 },
 "nbformat": 4,
 "nbformat_minor": 2
}
