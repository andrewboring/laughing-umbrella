{
 "cells": [
  {
   "cell_type": "code",
   "execution_count": 1,
   "metadata": {},
   "outputs": [],
   "source": [
    "import csv\n",
    "import pandas as pd\n",
    "import numpy as np\n",
    "import json\n",
    "import tablib\n",
    "\n",
    "from flask import Flask, render_template, request, redirect, url_for, jsonify\n",
    "app = Flask(__name__)"
   ]
  },
  {
   "cell_type": "code",
   "execution_count": null,
   "metadata": {},
   "outputs": [],
   "source": []
  },
  {
   "cell_type": "code",
   "execution_count": 2,
   "metadata": {},
   "outputs": [],
   "source": [
    "# Load data sets at application start.\n",
    "import json\n",
    "from pprint import pprint\n",
    "\n",
    "with open('data/historical_data.json') as f:\n",
    "    hdata = json.load(f)\n",
    "    \n",
    "with open('data/forecasted_data.json') as f:\n",
    "    fdata = json.load(f)"
   ]
  },
  {
   "cell_type": "code",
   "execution_count": 2,
   "metadata": {},
   "outputs": [],
   "source": [
    "# Load trained models at application start.\n",
    "import pickle\n",
    "multi_regressor_pkl = open(\"models/multi_regressor_model.pkl\", 'rb')\n",
    "multi_regressor_model = pickle.load(multi_regressor_pkl)\n",
    "\n",
    "multi_variate_pkl = open(\"models/multi_variate_model.pkl\", 'rb')\n",
    "multi_regressor_model = pickle.load(multi_variate_pkl)"
   ]
  },
  {
   "cell_type": "code",
   "execution_count": null,
   "metadata": {},
   "outputs": [],
   "source": [
    "csvdataset = pd.DataFrame.from_csv(\"data/dataset.csv\")"
   ]
  },
  {
   "cell_type": "code",
   "execution_count": 3,
   "metadata": {},
   "outputs": [],
   "source": [
    "@app.route(\"/\")\n",
    "def index():\n",
    "    return render_template(\"index.html\")"
   ]
  },
  {
   "cell_type": "code",
   "execution_count": 5,
   "metadata": {},
   "outputs": [],
   "source": []
  },
  {
   "cell_type": "code",
   "execution_count": 6,
   "metadata": {},
   "outputs": [],
   "source": []
  },
  {
   "cell_type": "code",
   "execution_count": 4,
   "metadata": {},
   "outputs": [],
   "source": [
    "@app.route(\"/historical-data\")\n",
    "def historical_data():\n",
    "    return jsonify(hdata)\n",
    "    # Create a dictionary from the row data and append to a list of \n",
    "    #data = []\n",
    "    #for row in results:\n",
    "        #historical_dict = {}\n",
    "        #historical_dict[\"name\"] = passenger.name\n",
    "        #historical_dict[\"age\"] = passenger.age\n",
    "        #historical_dict\"sex\"] = passenger.sex\n",
    "        #data.append(row)\n",
    "\n",
    "    #return jsonify(results)"
   ]
  },
  {
   "cell_type": "code",
   "execution_count": 5,
   "metadata": {},
   "outputs": [],
   "source": [
    "@app.route(\"/forecasted-data\")\n",
    "def forecasted_data():\n",
    "    return jsonify(fdata)\n",
    "    # Create a dictionary from the row data and append to a list of \n",
    "    #data = []\n",
    "    #for row in results:\n",
    "        #historical_dict = {}\n",
    "        #historical_dict[\"name\"] = passenger.name\n",
    "        #historical_dict[\"age\"] = passenger.age\n",
    "        #historical_dict\"sex\"] = passenger.sex\n",
    "        #data.append(row)\n",
    "\n",
    "    #return jsonify(results)"
   ]
  },
  {
   "cell_type": "code",
   "execution_count": 6,
   "metadata": {},
   "outputs": [],
   "source": [
    "#@app.route(\"/update-data\")\n",
    "def update_data():\n",
    "    return update.html"
   ]
  },
  {
   "cell_type": "code",
   "execution_count": null,
   "metadata": {},
   "outputs": [],
   "source": [
    "@app.route(\"/trends\")\n",
    "def trends():\n",
    "    return render_template(\"trends.html\")"
   ]
  },
  {
   "cell_type": "code",
   "execution_count": null,
   "metadata": {},
   "outputs": [],
   "source": [
    "@app.route(\"/forecast\")\n",
    "def forecast():\n",
    "    return render_template(\"forecast.html\")"
   ]
  },
  {
   "cell_type": "code",
   "execution_count": null,
   "metadata": {},
   "outputs": [],
   "source": [
    "@app.route(\"/predictor\")\n",
    "def predictor():\n",
    "    return render_template(\"predictor.html\")"
   ]
  },
  {
   "cell_type": "code",
   "execution_count": null,
   "metadata": {},
   "outputs": [],
   "source": [
    "@app.route(\"/summary\")\n",
    "def summary():\n",
    "    return render_template(\"summary.html\")"
   ]
  },
  {
   "cell_type": "code",
   "execution_count": null,
   "metadata": {},
   "outputs": [],
   "source": [
    "@app.route(\"/team\")\n",
    "def team():\n",
    "    return render_template(\"team.html\")"
   ]
  },
  {
   "cell_type": "code",
   "execution_count": null,
   "metadata": {},
   "outputs": [],
   "source": [
    "@app.route(\"/process\")\n",
    "def process():\n",
    "    return render_template(\"process.html\")"
   ]
  },
  {
   "cell_type": "code",
   "execution_count": null,
   "metadata": {},
   "outputs": [],
   "source": [
    "@app.route(\"/data\")\n",
    "def data():\n",
    "    return render_template(\"data.html\", data=csvdataset.to_html())"
   ]
  },
  {
   "cell_type": "code",
   "execution_count": null,
   "metadata": {},
   "outputs": [],
   "source": [
    "if __name__ == \"__main__\":\n",
    "    app.run(debug=True)"
   ]
  },
  {
   "cell_type": "code",
   "execution_count": 17,
   "metadata": {},
   "outputs": [],
   "source": []
  },
  {
   "cell_type": "code",
   "execution_count": null,
   "metadata": {},
   "outputs": [],
   "source": []
  }
 ],
 "metadata": {
  "kernelspec": {
   "display_name": "Python 3",
   "language": "python",
   "name": "python3"
  },
  "language_info": {
   "codemirror_mode": {
    "name": "ipython",
    "version": 3
   },
   "file_extension": ".py",
   "mimetype": "text/x-python",
   "name": "python",
   "nbconvert_exporter": "python",
   "pygments_lexer": "ipython3",
   "version": "3.6.8"
  }
 },
 "nbformat": 4,
 "nbformat_minor": 2
}
